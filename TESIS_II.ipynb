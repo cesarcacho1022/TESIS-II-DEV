{
  "cells": [
    {
      "cell_type": "markdown",
      "metadata": {
        "id": "_5qpXuHkvSIY"
      },
      "source": [
        "# **IMPORTACION DE LA DATA Y LIBRERIAS**"
      ]
    },
    {
      "cell_type": "code",
      "execution_count": null,
      "metadata": {
        "id": "PS92oI5a93v5"
      },
      "outputs": [],
      "source": [
        "#IMPORTANDO LIBRERIAS\n",
        "\n",
        "import numpy as np\n",
        "import pandas as pd\n",
        "import seaborn as sns\n",
        "import matplotlib.pyplot as plt\n",
        "import warnings\n",
        "from sklearn import metrics\n",
        "from sklearn.linear_model import LogisticRegression\n",
        "from sklearn.discriminant_analysis import LinearDiscriminantAnalysis\n",
        "from sklearn.model_selection import train_test_split\n",
        "\n",
        "\n",
        "warnings.filterwarnings('ignore')\n",
        "pd.set_option('display.max_rows',200)"
      ]
    },
    {
      "cell_type": "markdown",
      "metadata": {
        "id": "392UzXQ4vksi"
      },
      "source": [
        "# **EXPLORACION DE DATOS**"
      ]
    },
    {
      "cell_type": "code",
      "execution_count": null,
      "metadata": {
        "colab": {
          "base_uri": "https://localhost:8080/",
          "height": 299
        },
        "id": "uK6tO4ej_1fk",
        "outputId": "60cadeb3-2a43-475f-80db-05e03df20f2d"
      },
      "outputs": [],
      "source": [
        "#LEYENDA LA DATA\n",
        "df = pd.read_csv('application_data.csv')\n",
        "df.head()"
      ]
    },
    {
      "cell_type": "code",
      "execution_count": null,
      "metadata": {
        "colab": {
          "base_uri": "https://localhost:8080/"
        },
        "id": "MRs5tCJ-_1iO",
        "outputId": "b9d18af3-8cd1-4127-a789-1a164d143b56"
      },
      "outputs": [],
      "source": [
        "#REVISANDO EL TAMAÑO DEL DATAFRAME\n",
        "df.shape"
      ]
    },
    {
      "cell_type": "code",
      "execution_count": null,
      "metadata": {
        "colab": {
          "base_uri": "https://localhost:8080/"
        },
        "id": "kHrmn3qE_1kk",
        "outputId": "f57fc284-94db-4d5a-d86a-c4b8ad10ed5a"
      },
      "outputs": [],
      "source": [
        "#SABER LA CANTIDAD DE VALORES NULOS POR COLUMNA\n",
        "df.isnull().sum()"
      ]
    },
    {
      "cell_type": "code",
      "execution_count": null,
      "metadata": {
        "colab": {
          "base_uri": "https://localhost:8080/"
        },
        "id": "d5-rigTFA2er",
        "outputId": "e6838397-e949-43dc-f5b3-81a0ad57e276"
      },
      "outputs": [],
      "source": [
        "#SABER EL PORCENTAJE DE VALORES NULOS POR COLUMNA\n",
        "round(((df.isnull().sum() / len(df))*100),2)"
      ]
    },
    {
      "cell_type": "code",
      "execution_count": null,
      "metadata": {
        "colab": {
          "base_uri": "https://localhost:8080/"
        },
        "id": "RSEiJZXCBXhK",
        "outputId": "1c8beb70-700d-4810-c3ed-d1f1b29754b7"
      },
      "outputs": [],
      "source": [
        "#SABER EL TIPO DE DATOS DE CADA COLUMNA\n",
        "df.info()"
      ]
    },
    {
      "cell_type": "markdown",
      "metadata": {
        "id": "WMYrUMbcvv8G"
      },
      "source": [
        "# **PREPARACION DE DATOS**"
      ]
    },
    {
      "cell_type": "code",
      "execution_count": null,
      "metadata": {
        "id": "mL4CJMdXBXeT"
      },
      "outputs": [],
      "source": [
        "#ELIMINANDO LAS COLUMNAS QUE TIENEN VALORES NULOS MAYOR AL 50%\n",
        "df = df.dropna(thresh = (len(df)*0.50), axis=1)"
      ]
    },
    {
      "cell_type": "code",
      "execution_count": null,
      "metadata": {
        "id": "Ho0Xlip4mwia"
      },
      "outputs": [],
      "source": [
        "#CAMBIANDO COLUMNAS CON TIPO OBJECT A VALORES CATEGORICOS\n",
        "for feature in df.columns: \n",
        "    if df[feature].dtype == 'object': \n",
        "        df[feature] = pd.Categorical(df[feature]).codes"
      ]
    },
    {
      "cell_type": "markdown",
      "metadata": {
        "id": "AsGVAmGaiLY5"
      },
      "source": []
    },
    {
      "cell_type": "code",
      "execution_count": null,
      "metadata": {
        "id": "dCnlQOpxvzrQ"
      },
      "outputs": [],
      "source": [
        "#CAMBIANDO COLUMNAS CON VALORES NULOS A SU PROMEDIO\n",
        "df.AMT_GOODS_PRICE.fillna(df.AMT_GOODS_PRICE.mean(), inplace=True)\n",
        "df.AMT_ANNUITY.fillna(df.AMT_ANNUITY.mean(), inplace=True)\n",
        "df.CNT_FAM_MEMBERS.fillna(df.CNT_FAM_MEMBERS.mean(), inplace=True)\n",
        "df.EXT_SOURCE_2.fillna(df.EXT_SOURCE_2.mean(), inplace=True)\n",
        "df.EXT_SOURCE_3.fillna(df.EXT_SOURCE_3.mean(), inplace=True)           \n",
        "df.YEARS_BEGINEXPLUATATION_AVG.fillna(df.YEARS_BEGINEXPLUATATION_AVG.mean(), inplace=True)\n",
        "# df.ENTRANCES_AVG.fillna(df.ENTRANCES_AVG.mean(), inplace=True)\n",
        "df.FLOORSMAX_AVG.fillna(df.FLOORSMAX_AVG.mean(), inplace=True)\n",
        "# df.LIVINGAREA_AVG.fillna(df.LIVINGAREA_AVG.mean(), inplace=True)\n",
        "df.YEARS_BEGINEXPLUATATION_MODE.fillna(df.YEARS_BEGINEXPLUATATION_MODE.mean(), inplace=True)    \n",
        "# df.ENTRANCES_MODE.fillna(df.ENTRANCES_MODE.mean(), inplace=True)                  \n",
        "df.FLOORSMAX_MODE.fillna(df.FLOORSMAX_MODE.mean(), inplace=True)                  \n",
        "# df.LIVINGAREA_MODE.fillna(df.LIVINGAREA_MODE.mean(), inplace=True)                \n",
        "df.YEARS_BEGINEXPLUATATION_MEDI.fillna(df.YEARS_BEGINEXPLUATATION_MEDI.mean(), inplace=True)    \n",
        "# df.ENTRANCES_MEDI.fillna(df.ENTRANCES_MEDI.mean(), inplace=True)                  \n",
        "df.FLOORSMAX_MEDI.fillna(df.FLOORSMAX_MEDI.mean(), inplace=True)                  \n",
        "# df.LIVINGAREA_MEDI.fillna(df.LIVINGAREA_MEDI.mean(), inplace=True)                 \n",
        "df.TOTALAREA_MODE.fillna(df.TOTALAREA_MODE.mean(), inplace=True)                  \n",
        "df.OBS_30_CNT_SOCIAL_CIRCLE.fillna(df.OBS_30_CNT_SOCIAL_CIRCLE.mean(), inplace=True)        \n",
        "df.DEF_30_CNT_SOCIAL_CIRCLE.fillna(df.DEF_30_CNT_SOCIAL_CIRCLE.mean(), inplace=True)        \n",
        "df.OBS_60_CNT_SOCIAL_CIRCLE.fillna(df.OBS_60_CNT_SOCIAL_CIRCLE.mean(), inplace=True)        \n",
        "df.DEF_60_CNT_SOCIAL_CIRCLE.fillna(df.DEF_60_CNT_SOCIAL_CIRCLE.mean(), inplace=True)        \n",
        "df.DAYS_LAST_PHONE_CHANGE.fillna(df.DAYS_LAST_PHONE_CHANGE.mean(), inplace=True)          \n",
        "df.FLAG_DOCUMENT_2.fillna(df.FLAG_DOCUMENT_2.mean(), inplace=True)                 \n",
        "df.FLAG_DOCUMENT_3.fillna(df.FLAG_DOCUMENT_3.mean(), inplace=True)                 \n",
        "df.FLAG_DOCUMENT_4.fillna(df.FLAG_DOCUMENT_4.mean(), inplace=True)                 \n",
        "df.FLAG_DOCUMENT_5.fillna(df.FLAG_DOCUMENT_5.mean(), inplace=True)                 \n",
        "df.FLAG_DOCUMENT_6.fillna(df.FLAG_DOCUMENT_6.mean(), inplace=True)                 \n",
        "df.FLAG_DOCUMENT_7.fillna(df.FLAG_DOCUMENT_7.mean(), inplace=True)                 \n",
        "df.FLAG_DOCUMENT_8.fillna(df.FLAG_DOCUMENT_8.mean(), inplace=True)                 \n",
        "df.FLAG_DOCUMENT_9.fillna(df.FLAG_DOCUMENT_9.mean(), inplace=True)                 \n",
        "df.FLAG_DOCUMENT_10.fillna(df.FLAG_DOCUMENT_10.mean(), inplace=True)                \n",
        "df.FLAG_DOCUMENT_11.fillna(df.FLAG_DOCUMENT_11.mean(), inplace=True)                \n",
        "df.FLAG_DOCUMENT_12.fillna(df.FLAG_DOCUMENT_12.mean(), inplace=True)                \n",
        "df.FLAG_DOCUMENT_13.fillna(df.FLAG_DOCUMENT_13.mean(), inplace=True)                \n",
        "df.FLAG_DOCUMENT_14.fillna(df.FLAG_DOCUMENT_14.mean(), inplace=True)                \n",
        "df.FLAG_DOCUMENT_15.fillna(df.FLAG_DOCUMENT_15.mean(), inplace=True)                \n",
        "df.FLAG_DOCUMENT_16.fillna(df.FLAG_DOCUMENT_16.mean(), inplace=True)                \n",
        "df.FLAG_DOCUMENT_17.fillna(df.FLAG_DOCUMENT_17.mean(), inplace=True)                \n",
        "df.FLAG_DOCUMENT_18.fillna(df.FLAG_DOCUMENT_18.mean(), inplace=True)                \n",
        "df.FLAG_DOCUMENT_19.fillna(df.FLAG_DOCUMENT_19.mean(), inplace=True)                \n",
        "df.FLAG_DOCUMENT_20.fillna(df.FLAG_DOCUMENT_20.mean(), inplace=True)                \n",
        "df.FLAG_DOCUMENT_21.fillna(df.FLAG_DOCUMENT_21.mean(), inplace=True)                \n",
        "df.AMT_REQ_CREDIT_BUREAU_HOUR.fillna(df.AMT_REQ_CREDIT_BUREAU_HOUR.mean(), inplace=True)      \n",
        "df.AMT_REQ_CREDIT_BUREAU_DAY.fillna(df.AMT_REQ_CREDIT_BUREAU_DAY.mean(), inplace=True)       \n",
        "df.AMT_REQ_CREDIT_BUREAU_WEEK.fillna(df.AMT_REQ_CREDIT_BUREAU_WEEK.mean(), inplace=True)      \n",
        "df.AMT_REQ_CREDIT_BUREAU_MON.fillna(df.AMT_REQ_CREDIT_BUREAU_MON.mean(), inplace=True)       \n",
        "df.AMT_REQ_CREDIT_BUREAU_QRT.fillna(df.AMT_REQ_CREDIT_BUREAU_QRT.mean(), inplace=True)       \n",
        "df.AMT_REQ_CREDIT_BUREAU_YEAR.fillna(df.AMT_REQ_CREDIT_BUREAU_YEAR.mean(), inplace=True)"
      ]
    },
    {
      "cell_type": "code",
      "execution_count": null,
      "metadata": {
        "id": "h3D3WT7gBXmU"
      },
      "outputs": [],
      "source": [
        "#CAMBIANDO EL VALOR DE LAS COLUMNAS A ENTEROS\n",
        "df['DAYS_REGISTRATION'] = df['DAYS_REGISTRATION'].astype(int, errors='ignore')\n",
        "df['CNT_FAM_MEMBERS'] = df['CNT_FAM_MEMBERS'].astype(int, errors='ignore')\n",
        "df['OBS_30_CNT_SOCIAL_CIRCLE'] = df['OBS_30_CNT_SOCIAL_CIRCLE'].astype(int, errors='ignore')\n",
        "df['DEF_30_CNT_SOCIAL_CIRCLE'] = df['DEF_30_CNT_SOCIAL_CIRCLE'].astype(int, errors='ignore')\n",
        "df['DAYS_LAST_PHONE_CHANGE'] = df['DAYS_LAST_PHONE_CHANGE'].astype(int, errors='ignore')\n",
        "df['AMT_REQ_CREDIT_BUREAU_HOUR'] = df['AMT_REQ_CREDIT_BUREAU_HOUR'].astype(int, errors='ignore')\n",
        "df['DAYS_BIRTH'] = (abs(df['DAYS_BIRTH'])//365.25).astype(int)"
      ]
    },
    {
      "cell_type": "code",
      "execution_count": null,
      "metadata": {
        "colab": {
          "base_uri": "https://localhost:8080/",
          "height": 299
        },
        "id": "Jq0fgKytoLaP",
        "outputId": "65306f64-c9bd-4b4c-c244-5734c4b872d5"
      },
      "outputs": [],
      "source": [
        "#VEMOS COMO HAN CAMBIADO LOS VALORES\n",
        "df.head()"
      ]
    },
    {
      "cell_type": "code",
      "execution_count": null,
      "metadata": {
        "colab": {
          "base_uri": "https://localhost:8080/"
        },
        "id": "U-6x3qsbn2D6",
        "outputId": "6d8327a2-5a9a-413c-f035-7edfe2f8460d"
      },
      "outputs": [],
      "source": [
        "#SABER EL TIPO DE DATOS DE CADA COLUMNA LUEGO DEL CAMBIO\n",
        "df.info()"
      ]
    },
    {
      "cell_type": "markdown",
      "metadata": {
        "id": "NkJZhtyvwu-3"
      },
      "source": [
        "# **ANALISIS EXPLORATORIO**"
      ]
    },
    {
      "cell_type": "markdown",
      "metadata": {
        "id": "eRAyZ3xdJajh"
      },
      "source": [
        "Informes de valores atípicos para variables continuas"
      ]
    },
    {
      "cell_type": "code",
      "execution_count": null,
      "metadata": {
        "id": "xN11W29YA2hi"
      },
      "outputs": [],
      "source": [
        "def df_boxplot_outlier(var_cont):\n",
        "    \n",
        "    plt.figure(figsize=(12,6))\n",
        "    \n",
        "    sns.boxplot(y=var_cont, data=df, palette='Spectral')\n",
        "    plt.title('Distribucion de '+ '%s' %var_cont, weight='bold', fontsize=10)\n",
        "    plt.xlabel(var_cont)\n",
        "    plt.xticks(rotation=90)\n",
        "    plt.ylabel('Numero de casos')\n",
        "    \n",
        "    plt.show()"
      ]
    },
    {
      "cell_type": "code",
      "execution_count": null,
      "metadata": {
        "colab": {
          "base_uri": "https://localhost:8080/",
          "height": 393
        },
        "id": "veP6FU3jEdFr",
        "outputId": "d0b5d800-e418-411a-874d-827ef8c8968e"
      },
      "outputs": [],
      "source": [
        "#CANTIDAD DE FAMILIARES\n",
        "df_boxplot_outlier('CNT_FAM_MEMBERS')"
      ]
    },
    {
      "cell_type": "code",
      "execution_count": null,
      "metadata": {
        "colab": {
          "base_uri": "https://localhost:8080/"
        },
        "id": "b6YmXgGGExLZ",
        "outputId": "186db5ae-6239-44b0-ed1d-7b11ddbe3fbf"
      },
      "outputs": [],
      "source": [
        "df['CNT_FAM_MEMBERS'].describe()"
      ]
    },
    {
      "cell_type": "code",
      "execution_count": null,
      "metadata": {
        "colab": {
          "base_uri": "https://localhost:8080/",
          "height": 393
        },
        "id": "Xj5U6z1BExOW",
        "outputId": "6f366d17-8cf0-4692-9745-edac13d98977"
      },
      "outputs": [],
      "source": [
        "#CANTIDAD DE CREDITO\n",
        "df_boxplot_outlier('AMT_CREDIT')"
      ]
    },
    {
      "cell_type": "code",
      "execution_count": null,
      "metadata": {
        "colab": {
          "base_uri": "https://localhost:8080/"
        },
        "id": "cZ6aNN50ExTP",
        "outputId": "bd510801-08a3-4a8f-c668-74b0f821f0fe"
      },
      "outputs": [],
      "source": [
        "df['AMT_CREDIT'].describe()"
      ]
    },
    {
      "cell_type": "code",
      "execution_count": null,
      "metadata": {
        "colab": {
          "base_uri": "https://localhost:8080/"
        },
        "id": "hAlyiCd_ExWM",
        "outputId": "0aecedb6-e948-46e3-9a94-b6d394bbfe91"
      },
      "outputs": [],
      "source": [
        "#SABER EL PORCENTAJE DE VALORES NULOS POR COLUMNA\n",
        "round(100*(df.isnull().sum()/len(df)),2)"
      ]
    },
    {
      "cell_type": "code",
      "execution_count": null,
      "metadata": {
        "colab": {
          "base_uri": "https://localhost:8080/",
          "height": 248
        },
        "id": "Cm2hSNeWHFTU",
        "outputId": "7339066b-63c7-4431-a768-d86320b82b31"
      },
      "outputs": [],
      "source": [
        "#REVISANDO EL DESBALANCE DE DATOS PARA LA COLUMNA TARGET\n",
        "Defaulter = round((df['TARGET'].value_counts()[1]/len(df)),2)\n",
        "Non_Defaulter = round((df['TARGET'].value_counts()[0]/len(df)),2)\n",
        "explode= (0.1,0.1)\n",
        "client = [Defaulter, Non_Defaulter]\n",
        "labels = 'Morosos', 'No Morosos'\n",
        "plt.pie(client, labels=labels, explode=explode, autopct='%1.1f%%', startangle=90)\n",
        "plt.show()"
      ]
    },
    {
      "cell_type": "code",
      "execution_count": null,
      "metadata": {
        "id": "HFYvNTRZHFVn"
      },
      "outputs": [],
      "source": [
        "df0 = df[df.TARGET==0] #dataset para clientes no morosos\n",
        "df1 = df[df.TARGET==1] #dataset para clientes morosos"
      ]
    },
    {
      "cell_type": "markdown",
      "metadata": {
        "id": "i8tRYOj5hH5v"
      },
      "source": [
        "Características categóricas univariadas"
      ]
    },
    {
      "cell_type": "code",
      "execution_count": null,
      "metadata": {
        "id": "RgwMDCxJHFYB"
      },
      "outputs": [],
      "source": [
        "def df_plot_unnivariate_cat(var):\n",
        "    \n",
        "    plt.figure(figsize=(16,6))\n",
        "    \n",
        "    plt.subplot(1, 2, 1)\n",
        "    sns.countplot(var, data=df0, palette= 'Spectral', order= df0[var].value_counts().index)\n",
        "    plt.title('Distribucion de '+ '%s' %var +' para no morosos', weight='bold', fontsize=10)\n",
        "    plt.xlabel(var)\n",
        "    plt.xticks(rotation=90)\n",
        "    plt.ylabel('Numero de casos para clientes no morosos')\n",
        "    \n",
        "    plt.subplot(1, 2, 2)\n",
        "    sns.countplot(var, data=df1, palette='Spectral', order= df1[var].value_counts().index)\n",
        "    plt.title('Distribucion de '+ '%s' %var +' para morosos', weight='bold',fontsize=10)\n",
        "    plt.xlabel(var)\n",
        "    plt.xticks(rotation=90)\n",
        "    plt.ylabel('Numero de casos para clientes morosos')\n",
        "    \n",
        "    plt.show()"
      ]
    },
    {
      "cell_type": "code",
      "execution_count": null,
      "metadata": {
        "colab": {
          "base_uri": "https://localhost:8080/",
          "height": 366
        },
        "id": "3shmCG74HFaU",
        "outputId": "80c81a04-a8c1-448d-e68a-6c97c32d0f66"
      },
      "outputs": [],
      "source": [
        "#NOMBRE DE TIPO DE CONTRATO\n",
        "df_plot_unnivariate_cat('NAME_CONTRACT_TYPE')"
      ]
    },
    {
      "cell_type": "code",
      "execution_count": null,
      "metadata": {
        "colab": {
          "base_uri": "https://localhost:8080/",
          "height": 365
        },
        "id": "GqAh2GUuHFcc",
        "outputId": "26198a3f-c10b-423e-df2e-8404e8e016e2"
      },
      "outputs": [],
      "source": [
        "#CODIGO DE GENERO\n",
        "df_plot_unnivariate_cat('CODE_GENDER')"
      ]
    },
    {
      "cell_type": "code",
      "execution_count": null,
      "metadata": {
        "colab": {
          "base_uri": "https://localhost:8080/",
          "height": 365
        },
        "id": "5VbKEVA3HFeQ",
        "outputId": "ebfb2897-1807-4dd9-d5af-593772d1c531"
      },
      "outputs": [],
      "source": [
        "#ESTADO DE LA FAMILIA\n",
        "df_plot_unnivariate_cat('NAME_FAMILY_STATUS')"
      ]
    },
    {
      "cell_type": "code",
      "execution_count": null,
      "metadata": {
        "colab": {
          "base_uri": "https://localhost:8080/",
          "height": 366
        },
        "id": "BrAqPJFvHFgl",
        "outputId": "552d0a71-983d-454d-c36e-27ea9e3491d1"
      },
      "outputs": [],
      "source": [
        "#TIPO DE VIVIENDA\n",
        "df_plot_unnivariate_cat('NAME_HOUSING_TYPE')"
      ]
    },
    {
      "cell_type": "code",
      "execution_count": null,
      "metadata": {
        "colab": {
          "base_uri": "https://localhost:8080/",
          "height": 365
        },
        "id": "KKj0FJ6qHFjA",
        "outputId": "7bf31fb3-45a1-43ad-ff47-6ceb1a934aa7"
      },
      "outputs": [],
      "source": [
        "#TIPO DE EDUCACION\n",
        "df_plot_unnivariate_cat('NAME_EDUCATION_TYPE')"
      ]
    },
    {
      "cell_type": "markdown",
      "metadata": {
        "id": "B5R-pej1hsAH"
      },
      "source": [
        "CARACTERISTICAS CONTINUAS UNIVARIADAS"
      ]
    },
    {
      "cell_type": "code",
      "execution_count": null,
      "metadata": {
        "id": "OSvbHVorHFk0"
      },
      "outputs": [],
      "source": [
        "def df_plot_unnivariate_cont(var):\n",
        "    \n",
        "    plt.figure(figsize=(16,6))\n",
        "    \n",
        "    plt.subplot(1, 2, 1)\n",
        "    sns.distplot(df0[var],color='tab:orange')\n",
        "    plt.title('Distribucion de '+ '%s' %var +' para no morosos', weight='bold', fontsize=10)\n",
        "    plt.xlabel(var)\n",
        "    plt.xticks(rotation=90)\n",
        "    plt.ylabel('Distribución normal para clientes no morosos')\n",
        "    \n",
        "    plt.subplot(1, 2, 2)\n",
        "    sns.distplot(df1[var],color='tab:orange')\n",
        "    plt.title('Distribution of '+ '%s' %var +' para morosos', weight='bold',fontsize=10)\n",
        "    plt.xlabel(var)\n",
        "    plt.xticks(rotation=90)\n",
        "    plt.ylabel('Distribución normal para clientes morosos')\n",
        "    \n",
        "    plt.show()"
      ]
    },
    {
      "cell_type": "code",
      "execution_count": null,
      "metadata": {
        "colab": {
          "base_uri": "https://localhost:8080/",
          "height": 392
        },
        "id": "uOenvO9PhuEx",
        "outputId": "837709c1-372c-42ca-ce7b-e8752c7b85ee"
      },
      "outputs": [],
      "source": [
        "df_plot_unnivariate_cont('CNT_CHILDREN')"
      ]
    },
    {
      "cell_type": "code",
      "execution_count": null,
      "metadata": {
        "colab": {
          "base_uri": "https://localhost:8080/",
          "height": 392
        },
        "id": "b_FQMaOThuHu",
        "outputId": "e1e809cd-89b2-4949-e517-859866aaaf76"
      },
      "outputs": [],
      "source": [
        "#TOTAL DE INGRESOS\n",
        "df_plot_unnivariate_cont('AMT_INCOME_TOTAL')"
      ]
    },
    {
      "cell_type": "code",
      "execution_count": null,
      "metadata": {
        "colab": {
          "base_uri": "https://localhost:8080/",
          "height": 371
        },
        "id": "i1W-WjIVhuLU",
        "outputId": "94650084-6b8e-4107-8935-7ba4d36925ec"
      },
      "outputs": [],
      "source": [
        "#CANTIDAD DE CREDITO\n",
        "df_plot_unnivariate_cont('AMT_CREDIT')"
      ]
    },
    {
      "cell_type": "code",
      "execution_count": null,
      "metadata": {
        "colab": {
          "base_uri": "https://localhost:8080/",
          "height": 403
        },
        "id": "qbhVL6AIhuOS",
        "outputId": "0c78b8a7-47bc-41e0-a0c3-de0218c91201"
      },
      "outputs": [],
      "source": [
        "#CANTIDAD DE ANUALIDAD\n",
        "df_plot_unnivariate_cont('AMT_ANNUITY')"
      ]
    },
    {
      "cell_type": "code",
      "execution_count": null,
      "metadata": {
        "colab": {
          "base_uri": "https://localhost:8080/",
          "height": 375
        },
        "id": "Iqloyt2IHFnW",
        "outputId": "67b5a86b-e6b7-462f-91a5-0aa7c5e28cf1"
      },
      "outputs": [],
      "source": [
        "#AÑOS DEL CLIENTE\n",
        "df_plot_unnivariate_cont('DAYS_BIRTH')"
      ]
    },
    {
      "cell_type": "markdown",
      "metadata": {
        "id": "GJMaaykxiBKM"
      },
      "source": [
        "Bivariado Categórico-Categórico"
      ]
    },
    {
      "cell_type": "code",
      "execution_count": null,
      "metadata": {
        "id": "Xtc_xGG3iAV8"
      },
      "outputs": [],
      "source": [
        "def df_plot_bivariate_cat_cat(var,var_hue):\n",
        "    \n",
        "    plt.figure(figsize=(16,6))\n",
        "    \n",
        "    plt.subplot(1, 2, 1)\n",
        "    sns.countplot(var,hue=var_hue, data=df0, palette= 'Spectral', order= df0[var].value_counts().index, hue_order=df0[var_hue].value_counts().index)\n",
        "    plt.title('Distribucion de '+ '%s' %var +' para no morosos', weight='bold', fontsize=10)\n",
        "    plt.xlabel(var)\n",
        "    plt.xticks(rotation=90)\n",
        "    plt.ylabel('Número de casos de clientes no morosos')\n",
        "    \n",
        "    plt.subplot(1, 2, 2)\n",
        "    sns.countplot(var, hue=var_hue, data=df1, palette='Spectral', order= df1[var].value_counts().index, hue_order=df1[var_hue].value_counts().index)\n",
        "    plt.title('Distribucion de '+ '%s' %var +' para morosos', weight='bold',fontsize=10)\n",
        "    plt.xlabel(var)\n",
        "    plt.xticks(rotation=90)\n",
        "    plt.ylabel('Número de casos de clientes morosos')\n",
        "    \n",
        "    plt.show()"
      ]
    },
    {
      "cell_type": "code",
      "execution_count": null,
      "metadata": {
        "colab": {
          "base_uri": "https://localhost:8080/",
          "height": 366
        },
        "id": "-ctDkLnWiAYs",
        "outputId": "ba5b5012-525b-4b23-d659-8cd3a4d4314d"
      },
      "outputs": [],
      "source": [
        "#ESTADO DE LA FAMILIA Y TIPO DE EDUCACION\n",
        "df_plot_bivariate_cat_cat('NAME_FAMILY_STATUS','NAME_EDUCATION_TYPE')"
      ]
    },
    {
      "cell_type": "code",
      "execution_count": null,
      "metadata": {
        "colab": {
          "base_uri": "https://localhost:8080/",
          "height": 366
        },
        "id": "rDNWtCBdiAbO",
        "outputId": "16af1196-2e9e-4efd-a72a-3193b788b494"
      },
      "outputs": [],
      "source": [
        "#TIPO DE VIVIENDA Y ESTADO DE FAMILIA\n",
        "df_plot_bivariate_cat_cat('NAME_HOUSING_TYPE','NAME_FAMILY_STATUS')"
      ]
    },
    {
      "cell_type": "code",
      "execution_count": null,
      "metadata": {
        "colab": {
          "base_uri": "https://localhost:8080/",
          "height": 366
        },
        "id": "C6Hy5ho3iAd7",
        "outputId": "ad920884-c76b-4042-9cf2-e656ea81dbf7"
      },
      "outputs": [],
      "source": [
        "#TIPO DE EDUCACION Y CODIGO DE GENERO\n",
        "df_plot_bivariate_cat_cat('NAME_EDUCATION_TYPE','CODE_GENDER')"
      ]
    },
    {
      "cell_type": "code",
      "execution_count": null,
      "metadata": {
        "colab": {
          "base_uri": "https://localhost:8080/",
          "height": 365
        },
        "id": "QFtUiJbwiAge",
        "outputId": "12491476-0c88-4c6f-f402-a3d2ea637d4a"
      },
      "outputs": [],
      "source": [
        "#TIPO DE VIVIENDA Y EDUCACION\n",
        "df_plot_bivariate_cat_cat('NAME_HOUSING_TYPE','NAME_EDUCATION_TYPE')"
      ]
    },
    {
      "cell_type": "code",
      "execution_count": null,
      "metadata": {
        "colab": {
          "base_uri": "https://localhost:8080/",
          "height": 366
        },
        "id": "AMJcQFDWiAjc",
        "outputId": "a70d2595-e689-42de-8cb5-ad4c3cf18b21"
      },
      "outputs": [],
      "source": [
        "#ESTADO DE FAMILIA Y CODIGO DE GENERO\n",
        "df_plot_bivariate_cat_cat('NAME_FAMILY_STATUS','CODE_GENDER')"
      ]
    },
    {
      "cell_type": "markdown",
      "metadata": {
        "id": "K-gOI9IrlMof"
      },
      "source": [
        "Bivariado Categórico-Continuo"
      ]
    },
    {
      "cell_type": "code",
      "execution_count": null,
      "metadata": {
        "id": "hBLVaOC5lNLe"
      },
      "outputs": [],
      "source": [
        "def df_plot_bivariate_cat_cont(var_cat,var_cont):\n",
        "    \n",
        "    plt.figure(figsize=(16,6))\n",
        "    \n",
        "    plt.subplot(1, 2, 1)\n",
        "    sns.boxplot(x=var_cat,y=var_cont, data=df0, palette='Spectral', order= df0[var_cat].value_counts().index)\n",
        "    plt.title('Distribucion de '+ '%s' %var_cat +' para no morosos', weight='bold', fontsize=10)\n",
        "    plt.xlabel(var_cat)\n",
        "    plt.xticks(rotation=90)\n",
        "    plt.ylabel('%s' %var_cont+' para clientes morosos')\n",
        "    \n",
        "    plt.subplot(1, 2, 2)\n",
        "    sns.boxplot(x=var_cat, y=var_cont, data=df1, palette='Spectral', order= df1[var_cat].value_counts().index)\n",
        "    plt.title('Distribucion de '+ '%s' %var_cat +' para morosos', weight='bold',fontsize=10)\n",
        "    plt.xlabel(var_cat)\n",
        "    plt.xticks(rotation=90)\n",
        "    plt.ylabel('%s' %var_cont+' para clientes morosos')\n",
        "    \n",
        "    plt.show()"
      ]
    },
    {
      "cell_type": "code",
      "execution_count": null,
      "metadata": {
        "colab": {
          "base_uri": "https://localhost:8080/",
          "height": 371
        },
        "id": "MqR0e6_KlNOB",
        "outputId": "f840cae6-1d38-4d5a-908b-7913d212a957"
      },
      "outputs": [],
      "source": [
        "#TIPO DE EDUCACION Y CANTIDAD DE INGRESOS TOTALES\n",
        "df_plot_bivariate_cat_cont('NAME_EDUCATION_TYPE','AMT_INCOME_TOTAL')"
      ]
    },
    {
      "cell_type": "code",
      "execution_count": null,
      "metadata": {
        "colab": {
          "base_uri": "https://localhost:8080/",
          "height": 373
        },
        "id": "srTX89ehlNQo",
        "outputId": "6866053f-c97c-4cef-b287-2832fcbacc0b"
      },
      "outputs": [],
      "source": [
        "#TIPO DE EDUCACION Y CANTIDAD DE CREDITO\n",
        "df_plot_bivariate_cat_cont('NAME_EDUCATION_TYPE','AMT_CREDIT')"
      ]
    },
    {
      "cell_type": "code",
      "execution_count": null,
      "metadata": {
        "colab": {
          "base_uri": "https://localhost:8080/",
          "height": 373
        },
        "id": "Mh2fJasIlNTC",
        "outputId": "db610259-3b28-4df4-8743-88a9350f9833"
      },
      "outputs": [],
      "source": [
        "#CODIGO DE GENERO Y CANTIDAD DE CREDITO\n",
        "df_plot_bivariate_cat_cont('CODE_GENDER','AMT_CREDIT')"
      ]
    },
    {
      "cell_type": "code",
      "execution_count": null,
      "metadata": {
        "colab": {
          "base_uri": "https://localhost:8080/",
          "height": 371
        },
        "id": "tg0fj94ul2b7",
        "outputId": "f3692be8-d92d-4f61-a10c-f8c2918aac3f"
      },
      "outputs": [],
      "source": [
        "#TIPO DE VIVIENDA Y CANTIDAD DE HIJOS\n",
        "df_plot_bivariate_cat_cont('NAME_HOUSING_TYPE','CNT_CHILDREN')"
      ]
    },
    {
      "cell_type": "code",
      "execution_count": null,
      "metadata": {
        "colab": {
          "base_uri": "https://localhost:8080/",
          "height": 371
        },
        "id": "XPI5GhKol2ez",
        "outputId": "a7ae10fb-0b70-4a80-9c8f-125b6511fccf"
      },
      "outputs": [],
      "source": [
        "#TIPO DE EDUCACION Y CANTIDAD DE HIJOS\n",
        "df_plot_bivariate_cat_cont('NAME_EDUCATION_TYPE','CNT_CHILDREN')"
      ]
    },
    {
      "cell_type": "markdown",
      "metadata": {
        "id": "j__eJb4OmAlh"
      },
      "source": [
        "Bivariado Continuo-Continuo"
      ]
    },
    {
      "cell_type": "code",
      "execution_count": null,
      "metadata": {
        "id": "HwwZtoDrl2kZ"
      },
      "outputs": [],
      "source": [
        "def df_plot_bivariate_cont_cont(var_cont1,var_cont2):\n",
        "    \n",
        "    plt.figure(figsize=(18,6))\n",
        "    \n",
        "    plt.subplot(1, 2, 1)\n",
        "    sns.scatterplot(x=var_cont1,y=var_cont2, data=df0, palette='Spectral')\n",
        "    plt.title('Distribucion de '+ '%s' %var_cont1 +' para no morosos', weight='bold', fontsize=10)\n",
        "    plt.xticks(rotation=90)\n",
        "    plt.ylabel('Distribucion de '+ '%s' %var_cont2)\n",
        "\n",
        "    xIQR=1.5*(df0[var_cont1].quantile(.75)-df0[var_cont1].quantile(.25))\n",
        "    xlowerlim=df0[var_cont1].quantile(.25)-xIQR\n",
        "    xupperlim=df0[var_cont1].quantile(.75)+xIQR\n",
        "\n",
        "    yIQR=1.5*(df0[var_cont2].quantile(.75)-df0[var_cont2].quantile(.25))\n",
        "    ylowerlim=df0[var_cont2].quantile(.25)-yIQR\n",
        "    yupperlim=df0[var_cont2].quantile(.75)+yIQR\n",
        "\n",
        "    plt.ylim(ylowerlim,yupperlim)\n",
        "    plt.xlim(xlowerlim,xupperlim)\n",
        "    \n",
        "    \n",
        "    plt.subplot(1, 2, 2)\n",
        "    sns.scatterplot(x=var_cont1,y=var_cont2, data=df1, palette='Spectral')\n",
        "    plt.title('Distribucion de '+ '%s' %var_cont1 +' para morosos', weight='bold',fontsize=10)\n",
        "\n",
        "    plt.xticks(rotation=90)\n",
        "    plt.ylabel('Distribucion de '+ '%s' %var_cont2)\n",
        "\n",
        "    xIQR=1.5*(df1[var_cont1].quantile(.75)-df1[var_cont1].quantile(.25))\n",
        "    xlowerlim=df1[var_cont1].quantile(.25)-xIQR\n",
        "    xupperlim=df1[var_cont1].quantile(.75)+xIQR\n",
        "\n",
        "    yIQR=1.5*(df1[var_cont2].quantile(.75)-df1[var_cont2].quantile(.25))\n",
        "    ylowerlim=df1[var_cont2].quantile(.25)-yIQR\n",
        "    yupperlim=df1[var_cont2].quantile(.75)+yIQR\n",
        "    \n",
        "    plt.ylim(ylowerlim,yupperlim)\n",
        "    plt.xlim(xlowerlim,xupperlim)\n",
        "    \n",
        "    plt.show()"
      ]
    },
    {
      "cell_type": "code",
      "execution_count": null,
      "metadata": {
        "colab": {
          "base_uri": "https://localhost:8080/",
          "height": 357
        },
        "id": "s1LpWPw6l2po",
        "outputId": "86d1cc64-0b48-4665-f3b6-d7c8a26fb75a"
      },
      "outputs": [],
      "source": [
        "#CANTIDAD DE CREDITO Y EDAD\n",
        "df_plot_bivariate_cont_cont('AMT_CREDIT','DAYS_BIRTH')"
      ]
    },
    {
      "cell_type": "code",
      "execution_count": null,
      "metadata": {
        "colab": {
          "base_uri": "https://localhost:8080/",
          "height": 358
        },
        "id": "Tht0GAAamymo",
        "outputId": "f7795919-f445-473f-b973-9a0078763c04"
      },
      "outputs": [],
      "source": [
        "#CANTIDAD INGRESOS TOTALES Y DE CREDITO\n",
        "df_plot_bivariate_cont_cont('AMT_INCOME_TOTAL','AMT_CREDIT')"
      ]
    },
    {
      "cell_type": "code",
      "execution_count": null,
      "metadata": {
        "colab": {
          "base_uri": "https://localhost:8080/",
          "height": 355
        },
        "id": "hz8vklbmmypA",
        "outputId": "5e3f9e76-405a-446a-f60d-47a61ffa8d8b"
      },
      "outputs": [],
      "source": [
        "#CANTIDAD DE INGRESOS TOTALES Y ANUALIDAD\n",
        "df_plot_bivariate_cont_cont('AMT_INCOME_TOTAL','AMT_ANNUITY')"
      ]
    },
    {
      "cell_type": "code",
      "execution_count": null,
      "metadata": {
        "colab": {
          "base_uri": "https://localhost:8080/",
          "height": 363
        },
        "id": "Tjxc-12bm6Lx",
        "outputId": "984a2b1b-25e7-473a-bea3-7d116c96353e"
      },
      "outputs": [],
      "source": [
        "#CANTIDAD DE INGRESOS TOTALES Y AÑOS DEL CLIENTE\n",
        "df_plot_bivariate_cont_cont('AMT_INCOME_TOTAL','DAYS_BIRTH')"
      ]
    },
    {
      "cell_type": "code",
      "execution_count": null,
      "metadata": {
        "colab": {
          "base_uri": "https://localhost:8080/",
          "height": 334
        },
        "id": "WRQn6ghLm6OW",
        "outputId": "d4b03b41-2be1-4928-eadc-94abe1608fb4"
      },
      "outputs": [],
      "source": [
        "#AÑOS DEL CLIENTE Y MONTO DE ANUALIDAD\n",
        "df_plot_bivariate_cont_cont('DAYS_BIRTH','AMT_ANNUITY')"
      ]
    },
    {
      "cell_type": "markdown",
      "metadata": {
        "id": "Ud4jIkxum-vV"
      },
      "source": [
        "Correlacion (APLICATION DATA SET)"
      ]
    },
    {
      "cell_type": "code",
      "execution_count": null,
      "metadata": {
        "id": "IMMkDa4em6R1"
      },
      "outputs": [],
      "source": [
        "def correlation_heatmap(var):\n",
        "    plt.figure(figsize=(12,8))\n",
        "    cor = var.corr()\n",
        "\n",
        "    sns.heatmap(cor,annot=True,linewidths=.5,cbar_kws={\"orientation\": \"horizontal\"},cmap=\"Reds\")\n",
        "    plt.show()\n",
        "\n",
        "    indices = np.where(cor > -1)\n",
        "    indices = [(cor.index[x], cor.columns[y],abs(cor.iloc[x,y])) for x, y in zip(*indices) if x != y and x < y]\n",
        "    a=sorted(indices, key=lambda x: x[2],reverse=True)\n",
        "    print(\"Las diez principales correlaciones son:\")\n",
        "    for i in range(0,10):\n",
        "        print('%d. '%(i+1)+a[i][0]+' and '+a[i][1])"
      ]
    },
    {
      "cell_type": "code",
      "execution_count": null,
      "metadata": {
        "colab": {
          "base_uri": "https://localhost:8080/",
          "height": 652
        },
        "id": "RO3d1jt9m6T6",
        "outputId": "c8ac5a3a-813d-4d8c-e684-fc8297b8a353"
      },
      "outputs": [],
      "source": [
        "#MATRIZ DE CORRELACION PARA NO MOROSOS\n",
        "correlation_heatmap(df0[['CNT_CHILDREN','AMT_INCOME_TOTAL','AMT_CREDIT','AMT_ANNUITY','DAYS_BIRTH','DAYS_EMPLOYED','AMT_GOODS_PRICE']])"
      ]
    },
    {
      "cell_type": "code",
      "execution_count": null,
      "metadata": {
        "colab": {
          "base_uri": "https://localhost:8080/",
          "height": 652
        },
        "id": "r4BehfxH-Vkh",
        "outputId": "ac782490-37cd-44a4-945b-4fab15190da3"
      },
      "outputs": [],
      "source": [
        "#MATRIZ DE CORRELACION PARA MOROSOS\n",
        "correlation_heatmap(df1[['CNT_CHILDREN','AMT_INCOME_TOTAL','AMT_CREDIT','AMT_ANNUITY','DAYS_BIRTH','DAYS_EMPLOYED','AMT_GOODS_PRICE']])"
      ]
    },
    {
      "cell_type": "markdown",
      "metadata": {
        "id": "ex1e7q1BhwkF"
      },
      "source": [
        "En relacion de nuestra matriz correlación pasaremos a modelar nuestra data."
      ]
    },
    {
      "cell_type": "markdown",
      "metadata": {
        "id": "AwNW3hwDx2At"
      },
      "source": [
        "# **MODELADO**"
      ]
    },
    {
      "cell_type": "code",
      "execution_count": null,
      "metadata": {
        "id": "-OWaazW7k5I1"
      },
      "outputs": [],
      "source": [
        "\n",
        "y = df.TARGET.copy()\n",
        "X = df.drop(['TARGET'], axis=1)"
      ]
    },
    {
      "cell_type": "code",
      "execution_count": null,
      "metadata": {
        "id": "MF0uWyaxlH_8"
      },
      "outputs": [],
      "source": [
        "#DIVIDIMOS EL CONJUNTO DE ENTRENAMIENTO Y TEST\n",
        "X_train, X_test, y_train, y_test = train_test_split(X, y, test_size=0.25, random_state=123)"
      ]
    },
    {
      "cell_type": "code",
      "execution_count": null,
      "metadata": {
        "colab": {
          "base_uri": "https://localhost:8080/",
          "height": 487
        },
        "id": "SyC005ijidbv",
        "outputId": "005ddda2-8569-4ed5-d486-739e06c3b7bb"
      },
      "outputs": [],
      "source": [
        "X_train"
      ]
    },
    {
      "cell_type": "code",
      "execution_count": null,
      "metadata": {
        "colab": {
          "base_uri": "https://localhost:8080/",
          "height": 487
        },
        "id": "V6WPmStYihs3",
        "outputId": "e57e9000-d559-4276-b5a2-6870315cfd63"
      },
      "outputs": [],
      "source": [
        "X_test"
      ]
    },
    {
      "cell_type": "markdown",
      "metadata": {
        "id": "EKhFoKGTO6Y_"
      },
      "source": [
        "MODELO DE REGRESION LOGISTICA"
      ]
    },
    {
      "cell_type": "code",
      "execution_count": null,
      "metadata": {
        "colab": {
          "base_uri": "https://localhost:8080/"
        },
        "id": "4iQ4Avr_lZvV",
        "outputId": "51f95efe-5e1b-4ae0-9f74-868c9c0c670e"
      },
      "outputs": [],
      "source": [
        "#ENTRENAMOS LOS DATOS SEGUN EL MODELO DE REGRESION LOGISTICA\n",
        "modelRegression = LogisticRegression(solver='liblinear')\n",
        "modelRegression.fit(X_train, y_train)"
      ]
    },
    {
      "cell_type": "code",
      "execution_count": null,
      "metadata": {
        "id": "1JPJB1j02cdo"
      },
      "outputs": [],
      "source": [
        "#PRECIDIENDO CON EL MODELO PREVIAMENTE ENTRENADO\n",
        "y_predict = modelRegression.predict(X_test)"
      ]
    },
    {
      "cell_type": "code",
      "execution_count": null,
      "metadata": {
        "colab": {
          "base_uri": "https://localhost:8080/",
          "height": 81
        },
        "id": "8CzgN9oY36yf",
        "outputId": "5bea2247-09c4-40cc-84ac-5d50bb448d1c"
      },
      "outputs": [],
      "source": [
        "#CALCULANDO ALGUNAS METRICAS\n",
        "\n",
        "\n",
        "results_df = pd.DataFrame(data=[[\"Regresion Logistica\",  metrics.accuracy_score(y_test, y_predict), metrics.precision_score(y_test, y_predict),metrics.recall_score(y_test, y_predict) ]], \n",
        "                          columns=['Modelo', 'Accuracy', 'Precision', 'Recall'])\n",
        "results_df"
      ]
    },
    {
      "cell_type": "code",
      "execution_count": null,
      "metadata": {
        "colab": {
          "base_uri": "https://localhost:8080/"
        },
        "id": "_bZuQHVl5biM",
        "outputId": "df3b9a70-b7c1-4887-bd7b-7fb9d8d9c3f4"
      },
      "outputs": [],
      "source": [
        "#MATRIZ DE CONFUSION\n",
        "cnf_matrix = metrics.confusion_matrix(y_test, y_predict)\n",
        "print(cnf_matrix)"
      ]
    },
    {
      "cell_type": "code",
      "execution_count": null,
      "metadata": {
        "colab": {
          "base_uri": "https://localhost:8080/",
          "height": 311
        },
        "id": "10wHUhNR-XwO",
        "outputId": "ce1783a1-617e-4b09-b750-95bb13e68a1a"
      },
      "outputs": [],
      "source": [
        "#CREANDO GRAFICA DE MATRIZ DE CONFUSION\n",
        "labels = [0, 1]\n",
        "fig, ax = plt.subplots()\n",
        "tick_marks = np.arange(len(labels))\n",
        "plt.xticks(tick_marks, labels)\n",
        "plt.yticks(tick_marks, labels)\n",
        "# create heatmap\n",
        "sns.heatmap(pd.DataFrame(cnf_matrix), annot=True, cmap=\"YlGnBu\", fmt='g')\n",
        "ax.xaxis.set_label_position(\"top\")\n",
        "plt.title('Confusion matrix', y=1.1)\n",
        "plt.ylabel('True')\n",
        "plt.xlabel('Predicted')"
      ]
    },
    {
      "cell_type": "markdown",
      "metadata": {
        "id": "P7JYQQdCPCOR"
      },
      "source": [
        "MODELO DE ANALISIS DISCRIMINANTE"
      ]
    },
    {
      "cell_type": "code",
      "execution_count": null,
      "metadata": {
        "colab": {
          "base_uri": "https://localhost:8080/"
        },
        "id": "yTIxgZfk361k",
        "outputId": "693e5cff-5934-4d50-eb01-db036203a5df"
      },
      "outputs": [],
      "source": [
        "#ENTRENAMOS LOS DATOS SEGUN EL MODELO DE ANALISIS DISCRIMINANTE\n",
        "modelDiscriminant = LinearDiscriminantAnalysis()\n",
        "modelDiscriminant.fit(X_train, y_train)"
      ]
    },
    {
      "cell_type": "code",
      "execution_count": null,
      "metadata": {
        "id": "5GC79s-G3645"
      },
      "outputs": [],
      "source": [
        "#PRECIDIENDO CON EL MODELO PREVIAMENTE ENTRENADO\n",
        "y_predict = modelDiscriminant.predict(X_test)"
      ]
    },
    {
      "cell_type": "code",
      "execution_count": null,
      "metadata": {
        "colab": {
          "base_uri": "https://localhost:8080/",
          "height": 81
        },
        "id": "y4sHfdBUSt7Z",
        "outputId": "7336f59b-fa2b-4734-ffdc-d8fe732135b5"
      },
      "outputs": [],
      "source": [
        "#CALCULANDO ALGUNAS METRICAS\n",
        "\n",
        "results_df_2 = pd.DataFrame(data=[[\"Analisis Discriminante\",  metrics.accuracy_score(y_test, y_predict), metrics.precision_score(y_test, y_predict),metrics.recall_score(y_test, y_predict) ]], \n",
        "                          columns=['Modelo', 'Accuracy', 'Precision', 'Recall'])\n",
        "results_df_2"
      ]
    },
    {
      "cell_type": "code",
      "execution_count": null,
      "metadata": {
        "colab": {
          "base_uri": "https://localhost:8080/"
        },
        "id": "CH3Wk4X1St-A",
        "outputId": "6f29086f-a4b5-4d28-cb58-33a752c4e490"
      },
      "outputs": [],
      "source": [
        "#MATRIZ DE CONFUSION\n",
        "cnf_matrix = metrics.confusion_matrix(y_test, y_predict)\n",
        "print(cnf_matrix)"
      ]
    },
    {
      "cell_type": "code",
      "execution_count": null,
      "metadata": {
        "colab": {
          "base_uri": "https://localhost:8080/",
          "height": 311
        },
        "id": "BF1GztoMSuAa",
        "outputId": "0c66995f-8fdf-4b6b-a163-86e494c1ccc7"
      },
      "outputs": [],
      "source": [
        "#CREANDO GRAFICA DE MATRIZ DE CONFUSION\n",
        "labels = [0, 1]\n",
        "fig, ax = plt.subplots()\n",
        "tick_marks = np.arange(len(labels))\n",
        "plt.xticks(tick_marks, labels)\n",
        "plt.yticks(tick_marks, labels)\n",
        "# create heatmap\n",
        "sns.heatmap(pd.DataFrame(cnf_matrix), annot=True, cmap=\"YlGnBu\", fmt='g')\n",
        "ax.xaxis.set_label_position(\"top\")\n",
        "plt.title('Confusion matrix', y=1.1)\n",
        "plt.ylabel('True')\n",
        "plt.xlabel('Predicted')"
      ]
    },
    {
      "cell_type": "markdown",
      "metadata": {
        "id": "NlfpG_sNNYop"
      },
      "source": [
        "# **COMPARACION DE LOS 2 MODELOS**"
      ]
    },
    {
      "cell_type": "code",
      "execution_count": null,
      "metadata": {
        "colab": {
          "base_uri": "https://localhost:8080/",
          "height": 112
        },
        "id": "tc2bEXpduksC",
        "outputId": "3b817088-8f50-4549-bdcb-667b97738048"
      },
      "outputs": [],
      "source": [
        "# Cuadro Comparativo\n",
        "results_df = results_df.append(results_df_2, ignore_index=True)\n",
        "results_df"
      ]
    },
    {
      "cell_type": "markdown",
      "metadata": {
        "id": "A-U6Nucg6-vR"
      },
      "source": [
        "# **Conclusiones**\n",
        "\n",
        "En base a los objetivos planteados en el proyecto se llegaron a las siguientes conclusiones:\n",
        "\n",
        "1.   De la data obtenida con 122 características para determinar los clientes morosos del banco el 33% de sus características no fueron utilizadas ya que se realizó un análisis exploratorio de los datos y se procedió a tratarlos, ya que se halló varias características con el 50% de sus campos nulos; al terminar con el tratamiento de los datos quedaron 82 características útiles para determinar el objetivo de nuestro proyecto.\n",
        "\n",
        "2.   Se realizó un análisis exploratorio exhaustivo a la data obtenida del banco que nos arrojó como resultado final 82 características con todos sus campos completos y categorizados listos para ser utilizados en los modelos de regresión logística y análisis de discriminante planteadas para el proyecto.\n",
        "\n",
        "3. Se determinaron los modelos de regresión logística y análisis de discriminante para el presente proyecto con el objeto de predecir los posibles clientes morosos que puede tener el banco, para esto se dividió la data tratada con sus 82 características útiles de tal forma que un 25% se utilice para probar el modelo entrenado y un 75% para entrenar el modelo.\n",
        "\n",
        "4. Se entrenaron los modelos de regresión logística y discriminante con el 75% de los datos útiles para determinar a los posibles clientes morosos obteniendo resultados poco coherentes con el modelo de regresión logística ya que nos arrojaba cero para las métricas de precision y recall mientras que el modelo de análisis discriminante nos arrojaba métricas más reales.\n",
        "\n",
        "5. Al entrenar los dos modelos de predicción planteados en el proyecto se obtuvieron como resultados para el caso de la regresión logistica 0,918455 de accuaracy, 0 de precision y 0 de recall mientras que para el modelo de análisis discriminante se obtuvo 0,918338 de accuaracy, 0,481328 de precision y 0,018504 de recall, concluyendo así que el mejor modelo para nuestra predicción es el de análisis discriminante.\n",
        "\n",
        "6. Después de identificar nuestro mejor modelo de predicción para nuestro proyecto, se realizó la matriz de confusión para el modelo de análisis discriminante obteniendo como resultados 70484 de verdaderos negativos (clientes no morosos), 125 falsos positivos (clientes no morosos), 6153 de falsos negativos (clientes morosos) y 116 verdaderos positivos (clientes morosos)."
      ]
    },
    {
      "cell_type": "code",
      "execution_count": null,
      "metadata": {
        "id": "fTbW81uV3jzQ"
      },
      "outputs": [],
      "source": []
    }
  ],
  "metadata": {
    "colab": {
      "collapsed_sections": [],
      "provenance": []
    },
    "kernelspec": {
      "display_name": "Python 3.10.4 64-bit",
      "language": "python",
      "name": "python3"
    },
    "language_info": {
      "codemirror_mode": {
        "name": "ipython",
        "version": 3
      },
      "file_extension": ".py",
      "mimetype": "text/x-python",
      "name": "python",
      "nbconvert_exporter": "python",
      "pygments_lexer": "ipython3",
      "version": "3.10.4"
    },
    "vscode": {
      "interpreter": {
        "hash": "db19c031d8902179c06393866fd5abc41c1bd4c9e0ce553f383af4ae8b947d3b"
      }
    }
  },
  "nbformat": 4,
  "nbformat_minor": 0
}
